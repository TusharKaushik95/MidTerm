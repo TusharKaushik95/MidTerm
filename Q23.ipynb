{
 "cells": [
  {
   "cell_type": "code",
   "execution_count": 11,
   "id": "373cc854",
   "metadata": {},
   "outputs": [
    {
     "name": "stdout",
     "output_type": "stream",
     "text": [
      "cater\n",
      "crate\n",
      "react\n"
     ]
    }
   ],
   "source": [
    "def checkanagram(string1, string2):\n",
    "    a = sorted(string1)\n",
    "    b = sorted(string2)\n",
    "    if a == b:\n",
    "        return True\n",
    "    else:\n",
    "        return False\n",
    "\n",
    "\n",
    "def anagrams(file_name, string):\n",
    "    anagram = [] \n",
    "    words_in_anagram = open('words.txt') \n",
    "    for word in words_in_anagram:\n",
    "        word = word.strip() \n",
    "        isit = checkanagram(string, word)\n",
    "        if isit: \n",
    "            anagram.append(word)\n",
    "    words_in_anagram.close()\n",
    "    for i in anagram: \n",
    "        print(i)\n",
    "\n",
    "\n",
    "anagrams('words.txt', 'trace') "
   ]
  }
 ],
 "metadata": {
  "kernelspec": {
   "display_name": "Python 3 (ipykernel)",
   "language": "python",
   "name": "python3"
  },
  "language_info": {
   "codemirror_mode": {
    "name": "ipython",
    "version": 3
   },
   "file_extension": ".py",
   "mimetype": "text/x-python",
   "name": "python",
   "nbconvert_exporter": "python",
   "pygments_lexer": "ipython3",
   "version": "3.9.12"
  }
 },
 "nbformat": 4,
 "nbformat_minor": 5
}
